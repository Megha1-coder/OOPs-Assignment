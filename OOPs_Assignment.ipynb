{
  "nbformat": 4,
  "nbformat_minor": 0,
  "metadata": {
    "colab": {
      "provenance": []
    },
    "kernelspec": {
      "name": "python3",
      "display_name": "Python 3"
    },
    "language_info": {
      "name": "python"
    }
  },
  "cells": [
    {
      "cell_type": "code",
      "execution_count": null,
      "metadata": {
        "id": "bxy7exdds4Eh"
      },
      "outputs": [],
      "source": []
    },
    {
      "cell_type": "markdown",
      "source": [
        "**Theory Questions**\n",
        "\n",
        "Q 1: What is Object-Oriented Programming (OOP)?\n",
        "A 1: Object-oriented programming (OOP) is a style of programming characterized by the identification of classes of objects closely linked with the methods (functions) with which they are associated. It also includes ideas of inheritance of attributes and methods.\n",
        "\n",
        "Q 2: What is a class in OOP?\n",
        "A 2: A class is a way of organizing information about a type of data so a programmer can reuse elements when making multiple instances of that data type.\n",
        "\n",
        "Q 3: What is an object in OOP?\n",
        "A 3: In object-oriented programming (OOP), an object is a unit of code that represents a particular aspect of a system.\n",
        "\n",
        "Q 4:  What is the difference between abstraction and encapsulation?\n",
        "A 4: Encapsulation wraps code and data for unnecessary information, while Abstraction presents only useful data. Encapsulation focuses on how it should get done, while Abstraction focuses on what should get done.\n",
        "\n",
        "Q 5: What are dunder methods in Python?\n",
        "A 5: Dunder methods, also known as magic methods or special methods, are a set of predefined methods in Python that are used to add special functionality to objects and classes.\n",
        "\n",
        "Q 6: Explain the concept of inheritance in OOP.\n",
        "A 6: Inheritance is a fundamental concept in object-oriented programming (OOP) that allows a class to inherit properties and behaviors from another class. This creates a hierarchy of classes that share attributes and methods.\n",
        "\n",
        "Q 7: What is polymorphism in OOP?\n",
        "A 7: Polymorphism is a core concept in object-oriented programming (OOP) that allows different types of objects to be treated as a single superclass. It's a feature that enables code reusability and flexibility by allowing multiple classes to implement the same method in different ways.\n",
        "\n",
        "Q 8: How is encapsulation achieved in Python?\n",
        "A 8: Encapsulation is achieved through the use of access modifiers such as 'public', 'private', and 'protected'. Variables and methods declared with the 'private' or 'protected' access modifiers are not accessible from outside the class, while those declared as 'public' are.\n",
        "\n",
        "Q 9: What is a constructor in Python?\n",
        "A 9: Constructors in Python is a special class method for creating and initializing an object instance at that class. Every Python class has a constructor; it's not required to be defined explicitly. The purpose of the constructor is to construct an object and assign a value to the object's members.\n",
        "\n",
        "Q 10: What are class and static methods in Python?\n",
        "A 10: A class method can access or modify the class state while a static method can't access or modify it. In general, static methods know nothing about the class state. They are utility-type methods that take some parameters and work upon those parameters. On the other hand class methods must have class as a parameter.\n",
        "\n",
        "Q 11: What is method overloading in Python?\n",
        "A 11: Two or more methods have the same name but different numbers of parameters or different types of parameters, or both. These methods are called overloaded methods and this is called method overloading.\n",
        "\n",
        "Q 12: What is method overriding in OOP?\n",
        "A 12: Method overriding, in object-oriented programming, is a language feature that allows a subclass or child class to provide a specific implementation of a method that is already provided by one of its superclasses or parent classes.\n",
        "\n",
        "Q 13:  What is a property decorator in Python?\n",
        "A 13: The decorator is a built-in Python decorator that allows you to turn class methods into properties in a way that's both elegant and user-friendly.\n",
        "\n",
        "Q 14:  Why is polymorphism important in OOP?\n",
        "A 14: Polymorphism is a feature of object-oriented programming languages that allows a specific routine to use variables of different types at different times. Polymorphism in programming gives a program the ability to redefine methods for derived classes.\n",
        "\n",
        "Q 15: What is an abstract class in Python?\n",
        "A 15: Abstract classes allow us to define methods that must be implemented by subclasses, ensuring a consistent interface while still allowing the subclasses to provide specific implementations.\n",
        "\n",
        "Q 16: What are the advantages of OOP?\n",
        "A 16: Benefits of OOP in Python:\n",
        "      * Modularity\n",
        "      * Reusability\n",
        "      * Maintainability\n",
        "      * Flexibility and Extensibility\n",
        "      * Enhanced Code Organization\n",
        "      * Scalability\n",
        "\n",
        "Q 17: What is the difference between a class variable and an instance variable?\n",
        "A 17: Please find the below differences:\n",
        "      1- Instance variables are declared in a class, but outside a method, constructor or any block. Class variables also known as static variables are declared with the static keyword in a class, but outside a method, constructor or a block.\n",
        "      2- Instance variables are created when an object is created with the use of the keyword 'new' and destroyed when the object is destroyed. Static variables are created when the program starts and destroyed when the program stops.\n",
        "      3- Instance variables can be accessed directly by calling the variable name inside the class. However, within static methods (when instance variables are given accessibility), they should be called using the fully qualified name.\n",
        "      4- Instance variables hold values that must be referenced by more than one method, constructor or block, or essential parts of an object's state that must be present throughout the class. There would only be one copy of each class variable per class, regardless of how many objects are created from it.\n",
        "\n",
        "Q 18: What is multiple inheritance in Python?\n",
        "A 18: Multiple inheritance is a feature in Python that allows a class to inherit attributes and methods from more than one parent class. This allows the child class to combine the behavior of multiple base classes into a single derived class.\n",
        "\n",
        "Q 19:  Explain the purpose of ‘’__str__’ and ‘__repr__’ ‘ methods in Python.\n",
        "A 19: In Python, the __str__ and __repr__ methods are used to return string representations of an object.\n",
        "\n",
        "Q 20: What is the significance of the ‘super()’ function in Python?\n",
        "A 20: The super() function is used to give access to methods and properties of a parent or sibling class. The super() function returns an object that represents the parent class.\n",
        "\n",
        "Q 21: What is the significance of the __del__ method in Python?\n",
        "A 21: In Python, the __del__() method is referred to as a destructor method. It is called after an object’s garbage collection occurs, which happens after all references to the item have been destroyed.\n",
        "\n",
        "Q 22: What is the difference between @staticmethod and @classmethod in Python?\n",
        "A 22: The difference between the Class method and the static method is: A class method takes cls as the first parameter while a static method needs no specific parameters. A class method can access or modify the class state while a static method can't access or modify it.\n",
        "\n",
        "Q 23: How does polymorphism work in Python with inheritance?\n",
        "A 23: Polymorphism means \"many forms\", and it occurs when we have many classes that are related to each other by inheritance. Inheritance lets us inherit attributes and methods from another class. Polymorphism uses those methods to perform different tasks.\n",
        "\n",
        "Q 24: What is method chaining in Python OOP?\n",
        "A 24: Method chaining is a powerful technique in Python that enables us to perform a sequence of operations on an object in a concise and readable manner. By returning the modified object from each method, we can chain multiple method calls together, making our code more expressive and efficient.\n",
        "\n",
        "Q 25: What is the purpose of the __call__ method in Python?\n",
        "A 25: __call__() is to turn your instances into callable objects. In other words, its purpose is to create objects that you can call as you would call a regular function."
      ],
      "metadata": {
        "id": "gfFpsVpHtBPq"
      }
    },
    {
      "cell_type": "markdown",
      "source": [
        "**Practical Questions**"
      ],
      "metadata": {
        "id": "WXxjk0FaCrw_"
      }
    },
    {
      "cell_type": "markdown",
      "source": [
        "Q 1: Create a parent class Animal with a method speak() that prints a generic message. Create a child class Dog that overrides the speak() method to print \"Bark!\"."
      ],
      "metadata": {
        "id": "vvYF8ubCI8EI"
      }
    },
    {
      "cell_type": "code",
      "source": [
        "class Animal:\n",
        "    def speak(self):\n",
        "        print(\"Generic message\")\n",
        "\n",
        "class Dog(Animal):\n",
        "    def speak(self):\n",
        "        print(\"Bark!\")"
      ],
      "metadata": {
        "id": "cZjQXjfeCrPV"
      },
      "execution_count": 1,
      "outputs": []
    },
    {
      "cell_type": "code",
      "source": [
        "animal= Animal()\n",
        "dog= Dog()"
      ],
      "metadata": {
        "id": "jqX4iqdKs821"
      },
      "execution_count": 3,
      "outputs": []
    },
    {
      "cell_type": "code",
      "source": [
        "animal.speak()\n",
        "dog.speak()"
      ],
      "metadata": {
        "colab": {
          "base_uri": "https://localhost:8080/"
        },
        "id": "uLcZcND8GgMg",
        "outputId": "460df6de-c675-4cb5-a15b-ab373629e9bc"
      },
      "execution_count": 5,
      "outputs": [
        {
          "output_type": "stream",
          "name": "stdout",
          "text": [
            "Generic message\n",
            "Bark!\n"
          ]
        }
      ]
    },
    {
      "cell_type": "markdown",
      "source": [
        "Q 2: Write a program to create an abstract class Shape with a method area(). Derive classes Circle and Rectangle\n",
        "from it and implement the area() method in both"
      ],
      "metadata": {
        "id": "PIGtopq9JFWv"
      }
    },
    {
      "cell_type": "code",
      "source": [
        "import abc\n",
        "\n",
        "class Shape:\n",
        "    @abc.abstractmethod\n",
        "    def calculate_area(self):\n",
        "        pass\n",
        "class Rectangle(Shape):\n",
        "    def calculate_area(self):\n",
        "        return \"Area of rectange is len*breadth\"\n",
        "class Circle(Shape):\n",
        "    def calculate_area(self):\n",
        "        return \"area of circle is pi r **2\"\n"
      ],
      "metadata": {
        "id": "l_6Yd1i9HbIF"
      },
      "execution_count": 9,
      "outputs": []
    },
    {
      "cell_type": "code",
      "source": [
        "rect= Rectangle()\n",
        "rect.calculate_area()"
      ],
      "metadata": {
        "colab": {
          "base_uri": "https://localhost:8080/",
          "height": 35
        },
        "id": "a0iJUfIFKf9O",
        "outputId": "b7a0f317-44a0-4101-b7c6-0649841e701c"
      },
      "execution_count": 10,
      "outputs": [
        {
          "output_type": "execute_result",
          "data": {
            "text/plain": [
              "'Area of rectange is len*breadth'"
            ],
            "application/vnd.google.colaboratory.intrinsic+json": {
              "type": "string"
            }
          },
          "metadata": {},
          "execution_count": 10
        }
      ]
    },
    {
      "cell_type": "code",
      "source": [
        "C= Circle()\n",
        "C.calculate_area()"
      ],
      "metadata": {
        "colab": {
          "base_uri": "https://localhost:8080/",
          "height": 35
        },
        "id": "o2Rt_waXLNT5",
        "outputId": "a07c7ef0-b9a7-49d5-dea2-fa7d78e41bfa"
      },
      "execution_count": 11,
      "outputs": [
        {
          "output_type": "execute_result",
          "data": {
            "text/plain": [
              "'area of circle is pi r **2'"
            ],
            "application/vnd.google.colaboratory.intrinsic+json": {
              "type": "string"
            }
          },
          "metadata": {},
          "execution_count": 11
        }
      ]
    },
    {
      "cell_type": "markdown",
      "source": [
        "Q 3:  Implement a multi-level inheritance scenario where a class Vehicle has an attribute type. Derive a class Car\n",
        "and further derive a class ElectricCar that adds a battery attribute"
      ],
      "metadata": {
        "id": "VHrPaHfJLjO6"
      }
    },
    {
      "cell_type": "code",
      "source": [
        "class Vehicle:\n",
        "    def attribute_type(self):\n",
        "        print(\"This is a vehicle\")\n",
        "\n",
        "class Car(Vehicle):\n",
        "    def attribute_type(self):\n",
        "        print(\"This is a car\")\n",
        "\n",
        "class ElectricCar(Car):\n",
        "    def battery_type(self):\n",
        "        print(\"This is an electric car\")\n",
        "\n",
        "\n"
      ],
      "metadata": {
        "id": "7OWvas4WLW97"
      },
      "execution_count": 12,
      "outputs": []
    },
    {
      "cell_type": "code",
      "source": [
        "car= Car()\n",
        "car.attribute_type()"
      ],
      "metadata": {
        "colab": {
          "base_uri": "https://localhost:8080/"
        },
        "id": "lEsTRlcxMnpL",
        "outputId": "2f43a548-8758-4c77-b82a-a12cedb645be"
      },
      "execution_count": 14,
      "outputs": [
        {
          "output_type": "stream",
          "name": "stdout",
          "text": [
            "This is a car\n"
          ]
        }
      ]
    },
    {
      "cell_type": "code",
      "source": [
        "EC= ElectricCar()\n",
        "EC.attribute_type()"
      ],
      "metadata": {
        "colab": {
          "base_uri": "https://localhost:8080/"
        },
        "id": "EaWMwQTfM7V1",
        "outputId": "56bcf80b-82e9-49ec-94ca-8abd02c27423"
      },
      "execution_count": 15,
      "outputs": [
        {
          "output_type": "stream",
          "name": "stdout",
          "text": [
            "This is a car\n"
          ]
        }
      ]
    },
    {
      "cell_type": "code",
      "source": [
        "EC= ElectricCar()\n",
        "EC.battery_type()"
      ],
      "metadata": {
        "colab": {
          "base_uri": "https://localhost:8080/"
        },
        "id": "IF4GegGRNE4q",
        "outputId": "79a0d57c-ed00-4e0d-9708-c232f26c8ac2"
      },
      "execution_count": 16,
      "outputs": [
        {
          "output_type": "stream",
          "name": "stdout",
          "text": [
            "This is an electric car\n"
          ]
        }
      ]
    },
    {
      "cell_type": "markdown",
      "source": [
        "Q 4:  Implement a multi-level inheritance scenario where a class Vehicle has an attribute type. Derive a class Car\n",
        "and further derive a class ElectricCar that adds a battery attribute."
      ],
      "metadata": {
        "id": "y_I_AwxSNLTe"
      }
    },
    {
      "cell_type": "code",
      "source": [
        "# Q 3 and 4 is same"
      ],
      "metadata": {
        "id": "_VQBhnfFNJT8"
      },
      "execution_count": 17,
      "outputs": []
    },
    {
      "cell_type": "markdown",
      "source": [
        "Q 5: Write a program to demonstrate encapsulation by creating a class BankAccount with private attributes\n",
        "balance and methods to deposit, withdraw, and check balance."
      ],
      "metadata": {
        "id": "l8mInD3hNctB"
      }
    },
    {
      "cell_type": "code",
      "source": [
        "class BankAccount:\n",
        "\n",
        "    def __init__(self, balance):\n",
        "        self.__balance = balance\n",
        "\n",
        "    def deposit(self, amount): #amount is new deposition\n",
        "        self.__balance = self.__balance + amount\n",
        "\n",
        "    def withdraw(self, amount):\n",
        "        if self.__balance >= amount:\n",
        "            self.__balance = self.__balance - amount\n",
        "            return True\n",
        "        else:\n",
        "            return False\n",
        "\n",
        "    def get_balance(self):\n",
        "        return self.__balance"
      ],
      "metadata": {
        "id": "46fbeopxNbki"
      },
      "execution_count": 18,
      "outputs": []
    },
    {
      "cell_type": "code",
      "source": [
        "acc1= BankAccount(1000)"
      ],
      "metadata": {
        "id": "KmJ9BdApP5Kp"
      },
      "execution_count": 19,
      "outputs": []
    },
    {
      "cell_type": "code",
      "source": [
        "acc1.get_balance()"
      ],
      "metadata": {
        "colab": {
          "base_uri": "https://localhost:8080/"
        },
        "id": "s5sOrMLEQG1j",
        "outputId": "df0f296b-6ab4-47e7-d1a0-47af80b40a3c"
      },
      "execution_count": 20,
      "outputs": [
        {
          "output_type": "execute_result",
          "data": {
            "text/plain": [
              "1000"
            ]
          },
          "metadata": {},
          "execution_count": 20
        }
      ]
    },
    {
      "cell_type": "code",
      "source": [
        "acc1.deposit(500)"
      ],
      "metadata": {
        "id": "p3z75abDQMnb"
      },
      "execution_count": 22,
      "outputs": []
    },
    {
      "cell_type": "code",
      "source": [
        "acc1.get_balance()"
      ],
      "metadata": {
        "colab": {
          "base_uri": "https://localhost:8080/"
        },
        "id": "Ny6hYmuJQV9G",
        "outputId": "2dbd61df-ff20-4925-f5be-e00d3b5d953b"
      },
      "execution_count": 23,
      "outputs": [
        {
          "output_type": "execute_result",
          "data": {
            "text/plain": [
              "1500"
            ]
          },
          "metadata": {},
          "execution_count": 23
        }
      ]
    },
    {
      "cell_type": "code",
      "source": [
        "acc1.withdraw(200)"
      ],
      "metadata": {
        "colab": {
          "base_uri": "https://localhost:8080/"
        },
        "id": "oEA1fj_xQdXA",
        "outputId": "33119420-f4cc-492d-80cb-576e03a2d264"
      },
      "execution_count": 24,
      "outputs": [
        {
          "output_type": "execute_result",
          "data": {
            "text/plain": [
              "True"
            ]
          },
          "metadata": {},
          "execution_count": 24
        }
      ]
    },
    {
      "cell_type": "code",
      "source": [
        "acc1.get_balance()"
      ],
      "metadata": {
        "colab": {
          "base_uri": "https://localhost:8080/"
        },
        "id": "akytbetmQhoU",
        "outputId": "1de32bb8-9266-4046-efaf-312b693264b8"
      },
      "execution_count": 25,
      "outputs": [
        {
          "output_type": "execute_result",
          "data": {
            "text/plain": [
              "1300"
            ]
          },
          "metadata": {},
          "execution_count": 25
        }
      ]
    },
    {
      "cell_type": "markdown",
      "source": [
        "Q 6: Demonstrate runtime polymorphism using a method play() in a base class Instrument. Derive classes Guitar\n",
        "and Piano that implement their own version of play()."
      ],
      "metadata": {
        "id": "N65_RJAZQmjx"
      }
    },
    {
      "cell_type": "code",
      "source": [
        "class Instrument:\n",
        "    def play(self):\n",
        "        print(\"Instrument Sound\")\n",
        "class Guitar(Instrument):\n",
        "    def play(self):\n",
        "        print(\"Guitar Sound\")\n",
        "class Piano(Instrument):\n",
        "    def play(self):\n",
        "        print(\"Piano Sound\")"
      ],
      "metadata": {
        "id": "nGYvmwxqQkLy"
      },
      "execution_count": 26,
      "outputs": []
    },
    {
      "cell_type": "code",
      "source": [
        "Inst= Instrument()"
      ],
      "metadata": {
        "id": "vrrs9B7qZGih"
      },
      "execution_count": 27,
      "outputs": []
    },
    {
      "cell_type": "code",
      "source": [
        "Inst.play()"
      ],
      "metadata": {
        "colab": {
          "base_uri": "https://localhost:8080/"
        },
        "id": "47g6HuOLZNQ-",
        "outputId": "49f1df8c-fc36-45e4-9863-8dd1985264e4"
      },
      "execution_count": 28,
      "outputs": [
        {
          "output_type": "stream",
          "name": "stdout",
          "text": [
            "Instrument Sound\n"
          ]
        }
      ]
    },
    {
      "cell_type": "code",
      "source": [
        "Inst1= Guitar()"
      ],
      "metadata": {
        "id": "0B0Z8MM0ZQgs"
      },
      "execution_count": 29,
      "outputs": []
    },
    {
      "cell_type": "code",
      "source": [
        "Inst1.play()"
      ],
      "metadata": {
        "colab": {
          "base_uri": "https://localhost:8080/"
        },
        "id": "Niu28h1gZWb9",
        "outputId": "0c130826-f28a-4a63-db82-755c6995c2a9"
      },
      "execution_count": 30,
      "outputs": [
        {
          "output_type": "stream",
          "name": "stdout",
          "text": [
            "Guitar Sound\n"
          ]
        }
      ]
    },
    {
      "cell_type": "code",
      "source": [
        "Inst2= Piano()"
      ],
      "metadata": {
        "id": "4GxMEMVaZfLQ"
      },
      "execution_count": 31,
      "outputs": []
    },
    {
      "cell_type": "code",
      "source": [
        "Inst2.play()"
      ],
      "metadata": {
        "colab": {
          "base_uri": "https://localhost:8080/"
        },
        "id": "JkQ7DEhYZlIe",
        "outputId": "11f72915-8805-434a-e7a7-d56ebba5390a"
      },
      "execution_count": 32,
      "outputs": [
        {
          "output_type": "stream",
          "name": "stdout",
          "text": [
            "Piano Sound\n"
          ]
        }
      ]
    },
    {
      "cell_type": "markdown",
      "source": [
        "Q 7: Create a class MathOperations with a class method add_numbers() to add two numbers and a static\n",
        "method subtract_numbers() to subtract two numbers."
      ],
      "metadata": {
        "id": "lG9oWi6AZptQ"
      }
    },
    {
      "cell_type": "code",
      "source": [
        "class MathOperations:\n",
        "    @classmethod\n",
        "    def add_numbers(cls, num1, num2):\n",
        "        return num1 + num2\n",
        "\n",
        "    @staticmethod\n",
        "    def subtract_numbers(num1, num2):\n",
        "        return num1 - num2"
      ],
      "metadata": {
        "id": "mc126UV2ZuXY"
      },
      "execution_count": 33,
      "outputs": []
    },
    {
      "cell_type": "code",
      "source": [
        "addresult= MathOperations() #classmethod"
      ],
      "metadata": {
        "id": "7j46zBN_Z5ff"
      },
      "execution_count": 36,
      "outputs": []
    },
    {
      "cell_type": "code",
      "source": [
        "addresult.add_numbers(2,3)"
      ],
      "metadata": {
        "colab": {
          "base_uri": "https://localhost:8080/"
        },
        "id": "XQx66Gq8anRB",
        "outputId": "3042a270-d5d7-4c24-866b-66515780c9ca"
      },
      "execution_count": 37,
      "outputs": [
        {
          "output_type": "execute_result",
          "data": {
            "text/plain": [
              "5"
            ]
          },
          "metadata": {},
          "execution_count": 37
        }
      ]
    },
    {
      "cell_type": "code",
      "source": [
        "subresult= MathOperations.subtract_numbers(8, 3) #staticmethod"
      ],
      "metadata": {
        "id": "W0mme2pkaqHs"
      },
      "execution_count": 42,
      "outputs": []
    },
    {
      "cell_type": "code",
      "source": [
        "print(\"Subresult\", subresult)"
      ],
      "metadata": {
        "colab": {
          "base_uri": "https://localhost:8080/"
        },
        "id": "39qkp87ObHlN",
        "outputId": "f9bebe59-bf99-4ce6-e2d9-2298c2de1c73"
      },
      "execution_count": 43,
      "outputs": [
        {
          "output_type": "stream",
          "name": "stdout",
          "text": [
            "Subresult 5\n"
          ]
        }
      ]
    },
    {
      "cell_type": "markdown",
      "source": [
        "Q 8: Implement a class Person with a class method to count the total number of persons created."
      ],
      "metadata": {
        "id": "LF9Xib2Qlf4B"
      }
    },
    {
      "cell_type": "code",
      "source": [
        "class Person:\n",
        "\n",
        "    total_person = 0\n",
        "    def __init__(self, name):\n",
        "        self.name = name\n",
        "        Person.total_person = Person.total_person+1\n",
        "\n",
        "    @classmethod\n",
        "    def get_total_person(cls):\n",
        "        return cls.total_person"
      ],
      "metadata": {
        "id": "wwas4SnHb5EE"
      },
      "execution_count": 44,
      "outputs": []
    },
    {
      "cell_type": "code",
      "source": [
        "Person.total_person"
      ],
      "metadata": {
        "colab": {
          "base_uri": "https://localhost:8080/"
        },
        "id": "kc_LLfNym822",
        "outputId": "041377ad-7349-417c-dfef-464133894e8d"
      },
      "execution_count": 45,
      "outputs": [
        {
          "output_type": "execute_result",
          "data": {
            "text/plain": [
              "0"
            ]
          },
          "metadata": {},
          "execution_count": 45
        }
      ]
    },
    {
      "cell_type": "code",
      "source": [
        "P1= Person(\"Megha\")\n",
        "P2= Person(\"Meena\")"
      ],
      "metadata": {
        "id": "TM5B66tunFUZ"
      },
      "execution_count": 46,
      "outputs": []
    },
    {
      "cell_type": "code",
      "source": [
        "Person.total_person"
      ],
      "metadata": {
        "colab": {
          "base_uri": "https://localhost:8080/"
        },
        "id": "3xw7ZNNLnRmO",
        "outputId": "4e630d55-08fc-4c3e-fff1-cc07ca34e913"
      },
      "execution_count": 47,
      "outputs": [
        {
          "output_type": "execute_result",
          "data": {
            "text/plain": [
              "2"
            ]
          },
          "metadata": {},
          "execution_count": 47
        }
      ]
    },
    {
      "cell_type": "markdown",
      "source": [
        "Q 9: Write a class Fraction with attributes numerator and denominator. Override the str method to display the\n",
        "fraction as \"numerator/denominator\"."
      ],
      "metadata": {
        "id": "8DR6hiCCnnS8"
      }
    },
    {
      "cell_type": "code",
      "source": [
        "class Fraction:\n",
        "    def __init__(self, numerator, denominator):\n",
        "        self.numerator = numerator\n",
        "        self.denominator = denominator\n",
        "\n",
        "    def __str__(self):\n",
        "        return f\"{self.numerator}/{self.denominator}\""
      ],
      "metadata": {
        "id": "erzUID3JnZCR"
      },
      "execution_count": 48,
      "outputs": []
    },
    {
      "cell_type": "code",
      "source": [
        "F= Fraction(5,2)"
      ],
      "metadata": {
        "id": "UkuEmcoZp8AQ"
      },
      "execution_count": 53,
      "outputs": []
    },
    {
      "cell_type": "code",
      "source": [
        "print(F)"
      ],
      "metadata": {
        "colab": {
          "base_uri": "https://localhost:8080/"
        },
        "id": "16ESod3HqFMO",
        "outputId": "ba374a5c-1e8d-452d-ee68-fc61d0de8280"
      },
      "execution_count": 54,
      "outputs": [
        {
          "output_type": "stream",
          "name": "stdout",
          "text": [
            "5/2\n"
          ]
        }
      ]
    },
    {
      "cell_type": "markdown",
      "source": [
        "Q 10: Demonstrate operator overloading by creating a class Vector and overriding the add method to add two\n",
        "vectors."
      ],
      "metadata": {
        "id": "x2mhSb10q7-z"
      }
    },
    {
      "cell_type": "code",
      "source": [
        "class Vector:\n",
        "    def __init__(self, x, y):\n",
        "        self.x = x\n",
        "        self.y = y\n",
        "\n",
        "    def __add__(self,other):\n",
        "        if isinstance(other, Vector):\n",
        "          new_x = self.x + other.x\n",
        "          new_y = self.y + other.y\n",
        "          return Vector(new_x, new_y)\n",
        "        else:\n",
        "          raise TypeError(\"Unsupported operand type for +\")\n"
      ],
      "metadata": {
        "id": "DA7MT3kBqXPd"
      },
      "execution_count": 70,
      "outputs": []
    },
    {
      "cell_type": "code",
      "source": [
        "v1= Vector(1,2)\n",
        "v2= Vector(3,4)\n",
        "v3= v1+v2\n",
        "print(v3)"
      ],
      "metadata": {
        "colab": {
          "base_uri": "https://localhost:8080/"
        },
        "id": "6YMuboU_t0By",
        "outputId": "c3ec860e-24f7-498c-b2fa-63ea620746a8"
      },
      "execution_count": 83,
      "outputs": [
        {
          "output_type": "stream",
          "name": "stdout",
          "text": [
            "<__main__.Vector object at 0x7a8931609ff0>\n"
          ]
        }
      ]
    },
    {
      "cell_type": "code",
      "source": [],
      "metadata": {
        "id": "6EnGsgZ3vcxC"
      },
      "execution_count": 83,
      "outputs": []
    },
    {
      "cell_type": "markdown",
      "source": [
        "Q 11: Create a class Person with attributes name and age. Add a method greet() that prints \"Hello, my name is\n",
        "{name} and I am {age} years old.\""
      ],
      "metadata": {
        "id": "VwyYsD2c1Nd5"
      }
    },
    {
      "cell_type": "code",
      "source": [
        "class Person:\n",
        "    def __init__(self, name, age):\n",
        "        self.name = name\n",
        "        self.age = age\n",
        "\n",
        "    def greet(self):\n",
        "        print(f\"Hello, my name is {self.name} and I am {self.age} years old.\")\n"
      ],
      "metadata": {
        "id": "Tgoplf0hvpW-"
      },
      "execution_count": 77,
      "outputs": []
    },
    {
      "cell_type": "code",
      "source": [
        "P= Person(\"Megha\", 25)\n",
        "P.greet()"
      ],
      "metadata": {
        "colab": {
          "base_uri": "https://localhost:8080/"
        },
        "id": "RWHL5LdW1qt6",
        "outputId": "aa2b25f8-0e60-4923-8117-89b2abf300db"
      },
      "execution_count": 79,
      "outputs": [
        {
          "output_type": "stream",
          "name": "stdout",
          "text": [
            "Hello, my name is Megha and I am 25 years old.\n"
          ]
        }
      ]
    },
    {
      "cell_type": "markdown",
      "source": [
        "Q 12: Implement a class Student with attributes name and grades. Create a method average_grade() to compute\n",
        "the average of the grades."
      ],
      "metadata": {
        "id": "7ZR88dg_3RrO"
      }
    },
    {
      "cell_type": "code",
      "source": [
        "class Student:\n",
        "    def __init__(self, name, grades):\n",
        "        self.name = name\n",
        "        self.grades = grades\n",
        "\n",
        "    def average_grade(self):\n",
        "        total_grades = sum(self.grades)\n",
        "        average = total_grades\n",
        "        return average"
      ],
      "metadata": {
        "id": "caL7Hq7P2Qj4"
      },
      "execution_count": 81,
      "outputs": []
    },
    {
      "cell_type": "code",
      "source": [
        "Avg= Student(\"Megha\", [10,20,30])\n",
        "Avg.average_grade()"
      ],
      "metadata": {
        "colab": {
          "base_uri": "https://localhost:8080/"
        },
        "id": "kriAfMD23kb4",
        "outputId": "4d28df9b-635c-44de-8c17-99edebbcc47f"
      },
      "execution_count": 82,
      "outputs": [
        {
          "output_type": "execute_result",
          "data": {
            "text/plain": [
              "60"
            ]
          },
          "metadata": {},
          "execution_count": 82
        }
      ]
    },
    {
      "cell_type": "markdown",
      "source": [
        "Q 13: Create a class Rectangle with methods set_dimensions() to set the dimensions and area() to calculate the\n",
        "area."
      ],
      "metadata": {
        "id": "A5WMJfEn38Hj"
      }
    },
    {
      "cell_type": "code",
      "source": [
        "class Rectangle:\n",
        "    def __init__(self):\n",
        "        self.length = None\n",
        "        self.width = None\n",
        "\n",
        "    def set_dimensions(self, length, width):\n",
        "        self.length = length\n",
        "        self.width = width\n",
        "\n",
        "    def area(self):\n",
        "        if self.length is not None and self.width is not None:\n",
        "            return self.length * self.width"
      ],
      "metadata": {
        "id": "kkMgz75S3wfF"
      },
      "execution_count": 87,
      "outputs": []
    },
    {
      "cell_type": "code",
      "source": [
        "Rec= Rectangle()\n",
        "Rec.set_dimensions(2,3)\n",
        "Rec.area()"
      ],
      "metadata": {
        "colab": {
          "base_uri": "https://localhost:8080/"
        },
        "id": "tIEtLczf4ik7",
        "outputId": "85df993b-999d-4370-cdd5-57556a3a6b1f"
      },
      "execution_count": 90,
      "outputs": [
        {
          "output_type": "execute_result",
          "data": {
            "text/plain": [
              "6"
            ]
          },
          "metadata": {},
          "execution_count": 90
        }
      ]
    },
    {
      "cell_type": "markdown",
      "source": [
        "Q 14: Create a class Employee with a method calculate_salary() that computes the salary based on hours worked\n",
        "and hourly rate. Create a derived class Manager that adds a bonus to the salary."
      ],
      "metadata": {
        "id": "38Aa99FI6Np7"
      }
    },
    {
      "cell_type": "code",
      "source": [
        "class Employee:\n",
        "    def __init__(self, name, hours_worked, hourly_rate):\n",
        "        self.name = name\n",
        "        self.hours_worked = hours_worked\n",
        "        self.hourly_rate = hourly_rate\n",
        "    def calculate_salary(self):\n",
        "        return self.hours_worked * self.hourly_rate\n",
        "\n",
        "class Manager(Employee):\n",
        "    def __init__(self, name, hours_worked, hourly_rate, bonus):\n",
        "        super().__init__(name, hours_worked, hourly_rate)\n",
        "        self.bonus = bonus\n",
        "\n",
        "    def calculate_salary(self):\n",
        "        base_salary = super().calculate_salary()\n",
        "        return base_salary + self.bonus"
      ],
      "metadata": {
        "id": "TcAlgsWi46Yl"
      },
      "execution_count": 96,
      "outputs": []
    },
    {
      "cell_type": "code",
      "source": [],
      "metadata": {
        "id": "y6BzK4ON7HRb"
      },
      "execution_count": 96,
      "outputs": []
    },
    {
      "cell_type": "code",
      "source": [
        "Sal= Employee(\"Megha\", 10, 20)\n",
        "Sal.calculate_salary()"
      ],
      "metadata": {
        "colab": {
          "base_uri": "https://localhost:8080/"
        },
        "id": "P1jIyg8H63YK",
        "outputId": "81e78a63-f3b5-432f-b073-e3df8051ba51"
      },
      "execution_count": 97,
      "outputs": [
        {
          "output_type": "execute_result",
          "data": {
            "text/plain": [
              "200"
            ]
          },
          "metadata": {},
          "execution_count": 97
        }
      ]
    },
    {
      "cell_type": "code",
      "source": [
        "sal= Manager(\"Megha\", 10, 20, 100)\n",
        "sal.calculate_salary()"
      ],
      "metadata": {
        "colab": {
          "base_uri": "https://localhost:8080/"
        },
        "id": "3Y4tRmj77Q33",
        "outputId": "3719fcdb-949b-4440-a7b9-919468a742e2"
      },
      "execution_count": 101,
      "outputs": [
        {
          "output_type": "execute_result",
          "data": {
            "text/plain": [
              "300"
            ]
          },
          "metadata": {},
          "execution_count": 101
        }
      ]
    },
    {
      "cell_type": "markdown",
      "source": [
        "Q 15: Create a class Product with attributes name, price, and quantity. Implement a method total_price() that\n",
        "calculates the total price of the product."
      ],
      "metadata": {
        "id": "xpYEST3A9ACF"
      }
    },
    {
      "cell_type": "code",
      "source": [
        "class Product:\n",
        "    def __init__(self, name, price, quantity):\n",
        "        self.name = name\n",
        "        self.price = price\n",
        "        self.quantity = quantity\n",
        "\n",
        "    def total_price(self):\n",
        "        return self.price * self.quantity"
      ],
      "metadata": {
        "id": "vo7Kp7Yj7C1Z"
      },
      "execution_count": 103,
      "outputs": []
    },
    {
      "cell_type": "code",
      "source": [
        "P= Product(\"Mobile\", 10000, 2)\n",
        "P.total_price()"
      ],
      "metadata": {
        "colab": {
          "base_uri": "https://localhost:8080/"
        },
        "id": "DTOAftUL9PuB",
        "outputId": "22546adb-e963-4de5-8578-27f13f71c3a5"
      },
      "execution_count": 104,
      "outputs": [
        {
          "output_type": "execute_result",
          "data": {
            "text/plain": [
              "20000"
            ]
          },
          "metadata": {},
          "execution_count": 104
        }
      ]
    },
    {
      "cell_type": "markdown",
      "source": [
        "Q 16: Create a class Animal with an abstract method sound(). Create two derived classes Cow and Sheep that\n",
        "implement the sound() method."
      ],
      "metadata": {
        "id": "alGD0RE_9X20"
      }
    },
    {
      "cell_type": "code",
      "source": [
        "class Animal:\n",
        "    def sound(self):\n",
        "        pass\n",
        "\n",
        "class Cow(Animal):\n",
        "    def sound(self):\n",
        "        return \"Moo\"\n",
        "\n",
        "class Sheep(Animal):\n",
        "    def sound(self):\n",
        "        return \"Baa\""
      ],
      "metadata": {
        "id": "ntLVFTGT9Wj3"
      },
      "execution_count": 105,
      "outputs": []
    },
    {
      "cell_type": "code",
      "source": [
        "A= Animal()\n",
        "A.sound()"
      ],
      "metadata": {
        "id": "Rj9n4Aua9lgc"
      },
      "execution_count": 106,
      "outputs": []
    },
    {
      "cell_type": "code",
      "source": [
        "cow= Cow()\n",
        "cow.sound()"
      ],
      "metadata": {
        "colab": {
          "base_uri": "https://localhost:8080/",
          "height": 35
        },
        "id": "4CProMUc9sCU",
        "outputId": "6ca6245c-d2a0-443f-b340-6d03636b03e4"
      },
      "execution_count": 107,
      "outputs": [
        {
          "output_type": "execute_result",
          "data": {
            "text/plain": [
              "'Moo'"
            ],
            "application/vnd.google.colaboratory.intrinsic+json": {
              "type": "string"
            }
          },
          "metadata": {},
          "execution_count": 107
        }
      ]
    },
    {
      "cell_type": "code",
      "source": [
        "sheep= Sheep()\n",
        "sheep.sound()"
      ],
      "metadata": {
        "colab": {
          "base_uri": "https://localhost:8080/",
          "height": 35
        },
        "id": "Xp1i_ZmC-IoW",
        "outputId": "9671f5cc-d2ca-4931-db4b-ee8d4e78db78"
      },
      "execution_count": 108,
      "outputs": [
        {
          "output_type": "execute_result",
          "data": {
            "text/plain": [
              "'Baa'"
            ],
            "application/vnd.google.colaboratory.intrinsic+json": {
              "type": "string"
            }
          },
          "metadata": {},
          "execution_count": 108
        }
      ]
    },
    {
      "cell_type": "markdown",
      "source": [
        "Q 17: Create a class Book with attributes title, author, and year_published. Add a method get_book_info() that\n",
        "returns a formatted string with the book's details."
      ],
      "metadata": {
        "id": "7eOJf8dw-P_j"
      }
    },
    {
      "cell_type": "code",
      "source": [
        "class Book:\n",
        "    def __init__(self, title, author, year_published):\n",
        "        self.title = title\n",
        "        self.author = author\n",
        "        self.year_published = year_published\n",
        "\n",
        "    def get_book_info(self):\n",
        "        return f\"Title: {self.title}\\nAuthor: {self.author}\\nYear Published: {self.year_published}\"\n"
      ],
      "metadata": {
        "id": "H7LqvPtw-OGx"
      },
      "execution_count": 110,
      "outputs": []
    },
    {
      "cell_type": "code",
      "source": [
        "B= Book(\"Python\", \"Megha\", 2024)\n",
        "B.get_book_info()"
      ],
      "metadata": {
        "colab": {
          "base_uri": "https://localhost:8080/",
          "height": 35
        },
        "id": "lffrDLVA-vFY",
        "outputId": "492dc2a5-0d98-471a-92ff-d720145afb79"
      },
      "execution_count": 111,
      "outputs": [
        {
          "output_type": "execute_result",
          "data": {
            "text/plain": [
              "'Title: Python\\nAuthor: Megha\\nYear Published: 2024'"
            ],
            "application/vnd.google.colaboratory.intrinsic+json": {
              "type": "string"
            }
          },
          "metadata": {},
          "execution_count": 111
        }
      ]
    },
    {
      "cell_type": "markdown",
      "source": [
        "Q 18: Create a class House with attributes address and price. Create a derived class Mansion that adds an\n",
        "attribute number_of_rooms."
      ],
      "metadata": {
        "id": "8ddCBQsG_C4m"
      }
    },
    {
      "cell_type": "code",
      "source": [
        "class House:\n",
        "    def __init__(self, address, price):\n",
        "        self.address = address\n",
        "        self.price = price\n",
        "\n",
        "class Mansion(House):\n",
        "    def __init__(self, address, price, number_of_rooms):\n",
        "        super().__init__(address, price)\n",
        "        self.number_of_rooms = number_of_rooms\n",
        ""
      ],
      "metadata": {
        "id": "vuPBmx6S-_lK"
      },
      "execution_count": 113,
      "outputs": []
    },
    {
      "cell_type": "code",
      "source": [
        "H= Mansion(\"Khandwa\", 100000,6)\n",
        "print(H.address)\n",
        "print(H.price)\n",
        "print(H.number_of_rooms)"
      ],
      "metadata": {
        "colab": {
          "base_uri": "https://localhost:8080/"
        },
        "id": "jPEHPnrI_fSr",
        "outputId": "11515b31-48fc-42a3-bc09-5342ca8d3618"
      },
      "execution_count": 118,
      "outputs": [
        {
          "output_type": "stream",
          "name": "stdout",
          "text": [
            "Khandwa\n",
            "100000\n",
            "6\n"
          ]
        }
      ]
    },
    {
      "cell_type": "markdown",
      "source": [],
      "metadata": {
        "id": "VEZH8KHn_esV"
      }
    },
    {
      "cell_type": "markdown",
      "source": [],
      "metadata": {
        "id": "eoWPww81_Bwq"
      }
    }
  ]
}